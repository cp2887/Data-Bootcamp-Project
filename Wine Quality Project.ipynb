{
 "cells": [
  {
   "cell_type": "markdown",
   "metadata": {},
   "source": [
    "## Red and White Wine Quality Analysis \n",
    "\n",
    "**Data BootCamp - Fall 2018 MBA**\n",
    "\n",
    "**Caroline Packowski, Gabrielle Sart and Kaitlin Slattery**\n"
   ]
  },
  {
   "cell_type": "markdown",
   "metadata": {},
   "source": [
    "### Introduction \n",
    "\n",
    "Need to write up "
   ]
  },
  {
   "cell_type": "markdown",
   "metadata": {},
   "source": [
    "### Packages\n",
    "\n",
    "Need to write up "
   ]
  },
  {
   "cell_type": "code",
   "execution_count": null,
   "metadata": {},
   "outputs": [],
   "source": [
    "# import packages \n",
    "import pandas as pd                   # data management\n",
    "import matplotlib.pyplot as plt       # graphics \n",
    "import datetime as dt                 # check today's date \n",
    "import sys                            # check Python version "
   ]
  },
  {
   "cell_type": "markdown",
   "metadata": {},
   "source": [
    "### DataSet Information \n",
    "\n",
    "Need to write up "
   ]
  },
  {
   "cell_type": "code",
   "execution_count": 25,
   "metadata": {},
   "outputs": [],
   "source": [
    "url_white = \"https://raw.githubusercontent.com/krs520/Data-Bootcamp-Project/master/wineQualityWhites.csv\" \n",
    "url_red = \"https://raw.githubusercontent.com/krs520/Data-Bootcamp-Project/master/wineQualityReds.csv\"\n",
    "\n",
    "dfwhite = pd.read_csv(url_white) # Read in dataset on white wine quality \n",
    "dfred = pd.read_csv(url_red) # Read in dataset on red wine quality \n",
    "\n",
    "dfwhite = dfwhite.drop('Unnamed: 0',axis=1) # Drop the first column that is a counter \n",
    "dfred = dfred.drop('Unnamed: 0',axis=1) # Drop the first column that is a counter"
   ]
  },
  {
   "cell_type": "code",
   "execution_count": 23,
   "metadata": {
    "scrolled": true
   },
   "outputs": [],
   "source": []
  },
  {
   "cell_type": "code",
   "execution_count": null,
   "metadata": {},
   "outputs": [],
   "source": []
  }
 ],
 "metadata": {
  "kernelspec": {
   "display_name": "Python 3",
   "language": "python",
   "name": "python3"
  },
  "language_info": {
   "codemirror_mode": {
    "name": "ipython",
    "version": 3
   },
   "file_extension": ".py",
   "mimetype": "text/x-python",
   "name": "python",
   "nbconvert_exporter": "python",
   "pygments_lexer": "ipython3",
   "version": "3.6.5"
  }
 },
 "nbformat": 4,
 "nbformat_minor": 2
}
